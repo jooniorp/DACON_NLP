{
  "nbformat": 4,
  "nbformat_minor": 0,
  "metadata": {
    "colab": {
      "provenance": []
    },
    "kernelspec": {
      "name": "python3",
      "display_name": "Python 3"
    },
    "language_info": {
      "name": "python"
    }
  },
  "cells": [
    {
      "cell_type": "code",
      "execution_count": 1,
      "metadata": {
        "colab": {
          "base_uri": "https://localhost:8080/"
        },
        "id": "95Ea4jCJovtV",
        "outputId": "4cfd9a2d-2483-4392-88a4-102300c95afb"
      },
      "outputs": [
        {
          "output_type": "stream",
          "name": "stdout",
          "text": [
            "Collecting konlpy\n",
            "  Downloading konlpy-0.6.0-py2.py3-none-any.whl (19.4 MB)\n",
            "\u001b[2K     \u001b[90m━━━━━━━━━━━━━━━━━━━━━━━━━━━━━━━━━━━━━━━━\u001b[0m \u001b[32m19.4/19.4 MB\u001b[0m \u001b[31m36.4 MB/s\u001b[0m eta \u001b[36m0:00:00\u001b[0m\n",
            "\u001b[?25hCollecting JPype1>=0.7.0 (from konlpy)\n",
            "  Downloading JPype1-1.5.0-cp310-cp310-manylinux_2_17_x86_64.manylinux2014_x86_64.whl (488 kB)\n",
            "\u001b[2K     \u001b[90m━━━━━━━━━━━━━━━━━━━━━━━━━━━━━━━━━━━━━━━━\u001b[0m \u001b[32m488.6/488.6 kB\u001b[0m \u001b[31m19.9 MB/s\u001b[0m eta \u001b[36m0:00:00\u001b[0m\n",
            "\u001b[?25hRequirement already satisfied: lxml>=4.1.0 in /usr/local/lib/python3.10/dist-packages (from konlpy) (4.9.4)\n",
            "Requirement already satisfied: numpy>=1.6 in /usr/local/lib/python3.10/dist-packages (from konlpy) (1.25.2)\n",
            "Requirement already satisfied: packaging in /usr/local/lib/python3.10/dist-packages (from JPype1>=0.7.0->konlpy) (24.0)\n",
            "Installing collected packages: JPype1, konlpy\n",
            "Successfully installed JPype1-1.5.0 konlpy-0.6.0\n",
            "Requirement already satisfied: nltk in /usr/local/lib/python3.10/dist-packages (3.8.1)\n",
            "Requirement already satisfied: click in /usr/local/lib/python3.10/dist-packages (from nltk) (8.1.7)\n",
            "Requirement already satisfied: joblib in /usr/local/lib/python3.10/dist-packages (from nltk) (1.4.2)\n",
            "Requirement already satisfied: regex>=2021.8.3 in /usr/local/lib/python3.10/dist-packages (from nltk) (2023.12.25)\n",
            "Requirement already satisfied: tqdm in /usr/local/lib/python3.10/dist-packages (from nltk) (4.66.4)\n",
            "Requirement already satisfied: wordcloud in /usr/local/lib/python3.10/dist-packages (1.9.3)\n",
            "Requirement already satisfied: numpy>=1.6.1 in /usr/local/lib/python3.10/dist-packages (from wordcloud) (1.25.2)\n",
            "Requirement already satisfied: pillow in /usr/local/lib/python3.10/dist-packages (from wordcloud) (9.4.0)\n",
            "Requirement already satisfied: matplotlib in /usr/local/lib/python3.10/dist-packages (from wordcloud) (3.7.1)\n",
            "Requirement already satisfied: contourpy>=1.0.1 in /usr/local/lib/python3.10/dist-packages (from matplotlib->wordcloud) (1.2.1)\n",
            "Requirement already satisfied: cycler>=0.10 in /usr/local/lib/python3.10/dist-packages (from matplotlib->wordcloud) (0.12.1)\n",
            "Requirement already satisfied: fonttools>=4.22.0 in /usr/local/lib/python3.10/dist-packages (from matplotlib->wordcloud) (4.51.0)\n",
            "Requirement already satisfied: kiwisolver>=1.0.1 in /usr/local/lib/python3.10/dist-packages (from matplotlib->wordcloud) (1.4.5)\n",
            "Requirement already satisfied: packaging>=20.0 in /usr/local/lib/python3.10/dist-packages (from matplotlib->wordcloud) (24.0)\n",
            "Requirement already satisfied: pyparsing>=2.3.1 in /usr/local/lib/python3.10/dist-packages (from matplotlib->wordcloud) (3.1.2)\n",
            "Requirement already satisfied: python-dateutil>=2.7 in /usr/local/lib/python3.10/dist-packages (from matplotlib->wordcloud) (2.8.2)\n",
            "Requirement already satisfied: six>=1.5 in /usr/local/lib/python3.10/dist-packages (from python-dateutil>=2.7->matplotlib->wordcloud) (1.16.0)\n",
            "Collecting kiwipiepy\n",
            "  Downloading kiwipiepy-0.17.1-cp310-cp310-manylinux_2_17_x86_64.manylinux2014_x86_64.whl (2.9 MB)\n",
            "\u001b[2K     \u001b[90m━━━━━━━━━━━━━━━━━━━━━━━━━━━━━━━━━━━━━━━━\u001b[0m \u001b[32m2.9/2.9 MB\u001b[0m \u001b[31m11.3 MB/s\u001b[0m eta \u001b[36m0:00:00\u001b[0m\n",
            "\u001b[?25hCollecting kiwipiepy-model<0.18,>=0.17 (from kiwipiepy)\n",
            "  Downloading kiwipiepy_model-0.17.0.tar.gz (34.7 MB)\n",
            "\u001b[2K     \u001b[90m━━━━━━━━━━━━━━━━━━━━━━━━━━━━━━━━━━━━━━━━\u001b[0m \u001b[32m34.7/34.7 MB\u001b[0m \u001b[31m28.9 MB/s\u001b[0m eta \u001b[36m0:00:00\u001b[0m\n",
            "\u001b[?25h  Preparing metadata (setup.py) ... \u001b[?25l\u001b[?25hdone\n",
            "Requirement already satisfied: numpy in /usr/local/lib/python3.10/dist-packages (from kiwipiepy) (1.25.2)\n",
            "Requirement already satisfied: tqdm in /usr/local/lib/python3.10/dist-packages (from kiwipiepy) (4.66.4)\n",
            "Building wheels for collected packages: kiwipiepy-model\n",
            "  Building wheel for kiwipiepy-model (setup.py) ... \u001b[?25l\u001b[?25hdone\n",
            "  Created wheel for kiwipiepy-model: filename=kiwipiepy_model-0.17.0-py3-none-any.whl size=34845033 sha256=90807d34f6f69a78d3d82668a4cbf2130fc21072cb7a850899a376606916925f\n",
            "  Stored in directory: /root/.cache/pip/wheels/90/bb/ae/15e1cf26d17183040bac268fbf8d1ca1f45f7f4daa0fb76b91\n",
            "Successfully built kiwipiepy-model\n",
            "Installing collected packages: kiwipiepy-model, kiwipiepy\n",
            "Successfully installed kiwipiepy-0.17.1 kiwipiepy-model-0.17.0\n"
          ]
        }
      ],
      "source": [
        "!pip install konlpy\n",
        "!pip install nltk\n",
        "!pip install wordcloud\n",
        "!pip install kiwipiepy\n",
        "\n",
        "import konlpy\n",
        "import nltk\n",
        "import wordcloud\n",
        "from nltk.corpus import wordnet\n",
        "from kiwipiepy import Kiwi"
      ]
    },
    {
      "cell_type": "code",
      "source": [
        "from google.colab import drive\n",
        "\n",
        "drive.mount(\"/content/gdrive\")"
      ],
      "metadata": {
        "colab": {
          "base_uri": "https://localhost:8080/"
        },
        "id": "Ti2rcyZbp2uY",
        "outputId": "2eebb13d-70a2-4f63-883c-9f39db3ae407"
      },
      "execution_count": 2,
      "outputs": [
        {
          "output_type": "stream",
          "name": "stdout",
          "text": [
            "Mounted at /content/gdrive\n"
          ]
        }
      ]
    },
    {
      "cell_type": "code",
      "source": [
        "%cd /content/gdrive/MyDrive/도배하자"
      ],
      "metadata": {
        "colab": {
          "base_uri": "https://localhost:8080/"
        },
        "id": "zIQ0f9gWqHRv",
        "outputId": "05400d60-3789-4e3a-9cc4-5da7f17b24b1"
      },
      "execution_count": 3,
      "outputs": [
        {
          "output_type": "stream",
          "name": "stdout",
          "text": [
            "/content/gdrive/MyDrive/도배하자\n"
          ]
        }
      ]
    },
    {
      "cell_type": "code",
      "source": [
        "import pandas as pd\n",
        "import numpy as np\n",
        "import random\n",
        "import os\n",
        "import re\n",
        "import warnings\n",
        "import pickle\n",
        "\n",
        "warnings.filterwarnings('ignore')\n",
        "train = pd.read_csv('train.csv')"
      ],
      "metadata": {
        "id": "Ak9leVu1p_kN"
      },
      "execution_count": 4,
      "outputs": []
    },
    {
      "cell_type": "code",
      "source": [
        "test = pd.read_csv('test.csv')"
      ],
      "metadata": {
        "id": "1upE4At_p_m9"
      },
      "execution_count": 5,
      "outputs": []
    },
    {
      "cell_type": "code",
      "source": [
        "# CSV 파일 경로 설정\n",
        "train_file_path = 'train.csv'\n",
        "test_file_path = 'test.csv'\n",
        "\n",
        "# CSV 파일 읽기\n",
        "train_data = pd.read_csv(train_file_path)\n",
        "test_data = pd.read_csv(test_file_path)\n",
        "\n",
        "pre_train=train_data.copy()\n",
        "pre_test=test_data.copy()\n"
      ],
      "metadata": {
        "id": "0-XbR8aKp_pl"
      },
      "execution_count": 6,
      "outputs": []
    },
    {
      "cell_type": "code",
      "source": [
        "kiwi = Kiwi()\n",
        "\n",
        "kiwi.add_user_word('면진', 'NNG')"
      ],
      "metadata": {
        "colab": {
          "base_uri": "https://localhost:8080/"
        },
        "id": "HhMGI8AvkCQd",
        "outputId": "328a49d0-b019-4ce1-84ed-0f616d88de28"
      },
      "execution_count": 7,
      "outputs": [
        {
          "output_type": "execute_result",
          "data": {
            "text/plain": [
              "True"
            ]
          },
          "metadata": {},
          "execution_count": 7
        }
      ]
    },
    {
      "cell_type": "code",
      "source": [
        "columns = ['질문_1', '질문_2','답변_1', '답변_2', '답변_3', '답변_4', '답변_5']\n"
      ],
      "metadata": {
        "id": "eD3E1PFYk4KD"
      },
      "execution_count": 8,
      "outputs": []
    },
    {
      "cell_type": "code",
      "source": [
        "# 텍스트를 형태소 분석 및 토큰화하는 함수\n",
        "def tokenize_text(text):\n",
        "    word_list = []\n",
        "    result = kiwi.tokenize(text)\n",
        "    for token in result:\n",
        "        word_list.append(f'{token.form}/{token.tag}')  # 형태소/품사 형식으로 저장\n",
        "    return ' '.join(word_list)  # 형태소를 공백으로 구분하여 반환\n",
        "\n",
        "# 데이터프레임의 특정 열들을 형태소 분석 및 토큰화하는 함수\n",
        "def tokenize_data(df, columns):\n",
        "    for column in columns:\n",
        "        # 형태소 분석 및 토큰화된 결과를 기존 데이터프레임에 추가\n",
        "        df[column] = df[column].apply(lambda x: tokenize_text(x))\n",
        "    return df\n"
      ],
      "metadata": {
        "id": "MZtL8IAxvCxf"
      },
      "execution_count": 9,
      "outputs": []
    },
    {
      "cell_type": "code",
      "source": [
        "token_train=tokenize_data(pre_train,columns)"
      ],
      "metadata": {
        "id": "HD1pA6NUk8T6"
      },
      "execution_count": 10,
      "outputs": []
    },
    {
      "cell_type": "code",
      "source": [
        "print(token_train)"
      ],
      "metadata": {
        "colab": {
          "base_uri": "https://localhost:8080/"
        },
        "id": "T7_ZMrDbpWqO",
        "outputId": "4923e913-ce65-486c-ef97-3a78722df22a"
      },
      "execution_count": 11,
      "outputs": [
        {
          "output_type": "stream",
          "name": "stdout",
          "text": [
            "            id                                               질문_1  \\\n",
            "0    TRAIN_000           면진/NNG 장치/NNG 가/JKS 뭐/NP 이/VCP 야/EF ?/SF   \n",
            "1    TRAIN_001       내진/NNG 설계/NNG 의/JKG 종류/NNG 좀/MAG 알려주/VV 어/EF   \n",
            "2    TRAIN_002  철골/NNG 구조/NNG 의/JKG 장점/NNG 이/JKS 뭐/NP 이/VCP 야/...   \n",
            "3    TRAIN_003  철골/NNG 철근/NNG 콘크리트/NNG 구조/NNG 가/JKS 뭐/NP 이/VCP...   \n",
            "4    TRAIN_004  철골/NNG 구조/NNG 는/JX 어떤/MM 방식/NNG 이/JKS 있/VA 어/E...   \n",
            "..         ...                                                ...   \n",
            "639  TRAIN_639  벽장/NNG 부위/NNG 결/NNG 로/JKB 의/JKG 원인/NNG 이/JKS 뭐...   \n",
            "640  TRAIN_640  AD/SL ,/SP PD/SL 에/JKB 면/XR 하/XSV ᆫ/ETM 벽체/NNG...   \n",
            "641  TRAIN_641  외벽/NNG 모서리/NNG 부위/NNG 에/JKB 결/NNG 로/JKB 가/VV 어...   \n",
            "642  TRAIN_642  창호/NNG 결/NNG 로/JKB 의/JKG 대책/NNG 은/JX 뭐/NP 이/VC...   \n",
            "643  TRAIN_643  AD/SL ,/SP PD/SL 에/JKB 면/XR 하/XSV ᆫ/ETM 벽체/NNG...   \n",
            "\n",
            "                                                  질문_2 category  \\\n",
            "0    면진/NNG 장치/NNG 에/JKB 사용/NNG 되/XSV 는/ETM 주요/NNG ...     건축구조   \n",
            "1    내진/NNG 설계/NNG 에/JKB 는/JX 어떤/MM 종류/NNG 가/JKS 있/...     건축구조   \n",
            "2    철골/NNG 구조/NNG 의/JKG 장점/NNG 을/JKO 알려주/VV 어/EF ?/SF     건축구조   \n",
            "3    철골/NNG 철근/NNG 콘크리트/NNG 구조/NNG 의/JKG 장점/NNG 과/J...     건축구조   \n",
            "4    철골/NNG 구조/NNG 의/JKG 다양/NNG 하/XSA ᆫ/ETM 방식/NNG ...     건축구조   \n",
            "..                                                 ...      ...   \n",
            "639  벽장/NNG 부위/NNG 결/NNG 로/JKB 가/VV 어/EC 발생/NNG 하/X...   타 마감하자   \n",
            "640  벽체/NNG 결/NNG 로/JKB 가/VV 어/EC AD/SL 나/JC PD/SL ...   타 마감하자   \n",
            "641  외벽/NNG 모서리/NNG 부위/NNG 에/JKB 결/NNG 로/JKB 가/VV 어...   타 마감하자   \n",
            "642  창호/NNP 결로/NNG 를/JKO 해결/NNG 하/XSV 기/ETN 위하/VV ᆫ...   타 마감하자   \n",
            "643  AD/SL ,/SP PD/SL 에/JKB 면/XR 하/XSV ᆫ/ETM 벽체/NNG...   타 마감하자   \n",
            "\n",
            "                                                  답변_1  \\\n",
            "0    면진/NNG 장치/NNG 이/VCP 란/ETM 지반/NNG 에서/JKB 오/VV 는...   \n",
            "1    내진/NNG 설계/NNG 의/JKG 종류/NNG 로/JKB 내진/NNG 구조/NNG...   \n",
            "2    철골/NNG 구조/NNG 는/JX 건물/NNG 의/JKG 외벽/NNG 에/JKB 는...   \n",
            "3    철근/NNG 철골/NNG 콘크리트/NNG 는/JX 철골/NNG 과/JC 철근/NNG...   \n",
            "4    철골/NNG 구조/NNG 는/JX 일반/NNG 철골/NNG 구조/NNG 와/JC 경...   \n",
            "..                                                 ...   \n",
            "639  벽장/NNG 부위/NNG 결/NNG 로/JKB 의/JKG 원인/NNG 은/JX 난방...   \n",
            "640  AD/SL ,/SP PD/SL 에/JKB 면/XR 하/XSV ᆫ/ETM 벽체/NNG...   \n",
            "641  외벽/NNG 모서리/NNG 부위/NNG 에/JKB 결로/NNG 가/JKS 발생/NN...   \n",
            "642  창호/NNG 결/NNG 로/JKB 의/JKG 대책/NNG 은/JX 제품/NNG 을/...   \n",
            "643  AD/SL ,/SP PD/SL 에/JKB 면/XR 하/XSV ᆫ/ETM 벽체/NNG...   \n",
            "\n",
            "                                                  답변_2  \\\n",
            "0    면진/NNG 장치/NNG 란/JX 건물/NNG 의/JKG 지반/NNG 에서/JKB ...   \n",
            "1    내진/NNG 설계/NNG 에/JKB 는/JX 내진/NNG 구조/NNG ,/SP 제진...   \n",
            "2    철골/NNG 구조/NNG 의/JKG 장점/NNG 은/JX 건물/NNG 의/JKG 외...   \n",
            "3    철골/NNG 철근/NNG 콘크리트/NNG 구조/NNG 는/JX 건축물/NNG 을/J...   \n",
            "4    철골/NNG 구조/NNG 는/JX 일반/NNG 철골/NNG 구조/NNG 와/JC 경...   \n",
            "..                                                 ...   \n",
            "639  벽장/NNG 부위/NNG 결/NNG 로/JKB 의/JKG 원인/NNG 은/JX 주로...   \n",
            "640  AD/SL ,/SP PD/SL 에/JKB 면/XR 하/XSV ᆫ/ETM 벽체/NNG...   \n",
            "641  외벽/NNG 모서리/NNG 부위/NNG 에/JKB 결/NNG 로/JKB 가/VV 어...   \n",
            "642  창호/NNG 결/NNG 로/JKB 의/JKG 대책/NNG 은/JX KS/SL 에/J...   \n",
            "643  AD/SL ,/SP PD/SL 에/JKB 면/XR 하/XSV ᆫ/ETM 벽체/NNG...   \n",
            "\n",
            "                                                  답변_3  \\\n",
            "0    면진/NNG 장치/NNG 란/JX 지반/NNG 으로부터/JKB 발생/NNG 하/XS...   \n",
            "1    내진/NNG 설계/NNG 에/JKB 는/JX 주로/MAG 내진/NNG 구조/NNG ...   \n",
            "2    철골/NNG 구조/NNG 의/JKG 장점/NNG 은/JX 건물/NNG 의/JKG 외...   \n",
            "3    철골/NNG 철근/NNG 콘크리트/NNG 구조/NNG 는/JX 건축물/NNG 을/J...   \n",
            "4    철골/NNG 구조/NNG 는/JX 주로/MAG 일반/NNG 철골/NNG 구조/NNG...   \n",
            "..                                                 ...   \n",
            "639  벽장/NNG 부위/NNG 결/NNG 로/JKB 가/VV 어/EC 발생/NNG 하/X...   \n",
            "640  AD/SL ,/SP PD/SL 에/JKB 면/XR 하/XSV ᆫ/ETM 벽체/NNG...   \n",
            "641  외벽/NNG 모서리/NNG 부위/NNG 에/JKB 결/NNG 로/JKB 가/VV 어...   \n",
            "642  창호/NNP 결로/NNG 를/JKO 예방/NNG 하/XSV 기/ETN 위하/VV ᆫ...   \n",
            "643  AD/SL ,/SP PD/SL 에/JKB 면/XR 하/XSV ᆫ/ETM 벽체/NNG...   \n",
            "\n",
            "                                                  답변_4  \\\n",
            "0    면진/NNG 장치/NNG 는/JX 건물/NNG 의/JKG 지반/NNG 으로부터/JK...   \n",
            "1    내진/NNG 설계/NNG 에/JKB 는/JX 주로/MAG 내진/NNG 구조/NNG ...   \n",
            "2    철골/NNG 구조/NNG 의/JKG 장점/NNG 은/JX 건물/NNG 의/JKG 외...   \n",
            "3    철골/NNG 철근/NNG 콘크리트/NNG 구조/NNG 는/JX 철골/NNG 과/JC...   \n",
            "4    철골/NNG 구조/NNG 는/JX 주로/MAG 일반/NNG 철골/NNG 구조/NNG...   \n",
            "..                                                 ...   \n",
            "639  벽장/NNG 부위/NNG 결/NNG 로/JKB 가/VV 어/EC 발생/NNG 하/X...   \n",
            "640  AD/SL ,/SP PD/SL 에/JKB 면/XR 하/XSV ᆫ/ETM 벽체/NNG...   \n",
            "641  외벽/NNG 모서리/NNG 부위/NNG 에/JKB 결/NNG 로/JKB 가/VV 어...   \n",
            "642  창호/NNG 결/NNG 로/JKB 의/JKG 대책/NNG 은/JX 여러/MM 가지/...   \n",
            "643  AD/SL ,/SP PD/SL 에/JKB 면/XR 하/XSV ᆫ/ETM 벽체/NNG...   \n",
            "\n",
            "                                                  답변_5  \n",
            "0    면진/NNG 장치/NNG 는/JX 건물/NNG 에/JKB 오/VV 는/ETM 지반/...  \n",
            "1    내진/NNG 설계/NNG 에/JKB 는/JX 다양/NNG 하/XSA ᆫ/ETM 종류...  \n",
            "2    철골/NNG 구조/NNG 의/JKG 장점/NNG 은/JX 건물/NNG 의/JKG 외...  \n",
            "3    철골/NNG 철근/NNG 콘크리트/NNG 구조/NNG 는/JX 강철/NNG 골조/N...  \n",
            "4    철골/NNG 구조/NNG 는/JX 일반/NNG 철골/NNG 구조/NNG 와/JC 경...  \n",
            "..                                                 ...  \n",
            "639  벽장/NNG 부위/NNG 결/NNG 로/JKB 의/JKG 주/NNG 되/XSV ᆫ/...  \n",
            "640  AD/SL ,/SP PD/SL 에/JKB 면/XR 하/XSV ᆫ/ETM 벽체/NNG...  \n",
            "641  외벽/NNG 모서리/NNG 부위/NNG 에/JKB 결/NNG 로/JKB 가/VV 어...  \n",
            "642  창호/NNP 결로/NNG 를/JKO 방지/NNG 하/XSV 기/ETN 위하/VV ᆫ...  \n",
            "643  AD/SL ,/SP PD/SL 에/JKB 면/XR 하/XSV ᆫ/ETM 벽체/NNG...  \n",
            "\n",
            "[644 rows x 9 columns]\n"
          ]
        }
      ]
    },
    {
      "cell_type": "code",
      "source": [
        "p1 = re.compile('[가-힣A-Za-z0-9]+/NN. [가-힣A-Za-z0-9]+/XS.')\n",
        "p2 = re.compile('[가-힣A-Za-z0-9]+/NN. [가-힣A-Za-z0-9]+/XSA [가-힣A-Za-z0-9]+/VX')\n",
        "p3 = re.compile('[가-힣A-Za-z0-9]+/VV')\n",
        "p4 = re.compile('[가-힣A-Za-z0-9]+/VX')"
      ],
      "metadata": {
        "id": "tJuTCiyBp_0l"
      },
      "execution_count": 12,
      "outputs": []
    },
    {
      "cell_type": "code",
      "source": [
        "# 동사 원형 변환 함수\n",
        "def stemming_text(text):\n",
        "    corpus = []\n",
        "    for sent in text:\n",
        "        ori_sent = sent\n",
        "        mached_terms = re.findall(p1, ori_sent)\n",
        "        for terms in mached_terms:\n",
        "            ori_terms = terms\n",
        "            modi_terms = ''\n",
        "            for term in terms.split(' '):\n",
        "                lemma = term.split('/')[0]\n",
        "                modi_terms += lemma\n",
        "            modi_terms += '다/VV'\n",
        "            ori_sent = ori_sent.replace(ori_terms, modi_terms)\n",
        "\n",
        "        mached_terms = re.findall(p2, ori_sent)\n",
        "        for terms in mached_terms:\n",
        "            ori_terms = terms\n",
        "            modi_terms = ''\n",
        "            for term in terms.split(' '):\n",
        "                lemma = term.split('/')[0]\n",
        "                tag = term.split('/')[-1]\n",
        "                if tag != 'VX':\n",
        "                    modi_terms += lemma\n",
        "            modi_terms += '다/VV'\n",
        "            ori_sent = ori_sent.replace(ori_terms, modi_terms)\n",
        "\n",
        "        mached_terms = re.findall(p3, ori_sent)\n",
        "        for terms in mached_terms:\n",
        "            ori_terms = terms\n",
        "            modi_terms = ''\n",
        "            for term in terms.split(' '):\n",
        "                lemma = term.split('/')[0]\n",
        "                modi_terms += lemma\n",
        "            if '다' != modi_terms[-1]:\n",
        "                modi_terms += '다'\n",
        "            modi_terms += '/VV'\n",
        "            ori_sent = ori_sent.replace(ori_terms, modi_terms)\n",
        "\n",
        "        mached_terms = re.findall(p4, ori_sent)\n",
        "        for terms in mached_terms:\n",
        "            ori_terms = terms\n",
        "            modi_terms = ''\n",
        "            for term in terms.split(' '):\n",
        "                lemma = term.split('/')[0]\n",
        "                modi_terms += lemma\n",
        "            if '다' != modi_terms[-1]:\n",
        "                modi_terms += '다'\n",
        "            modi_terms += '/VV'\n",
        "            ori_sent = ori_sent.replace(ori_terms, modi_terms)\n",
        "\n",
        "        corpus.append(ori_sent)\n",
        "    return corpus"
      ],
      "metadata": {
        "id": "J-Oc1FNCyabQ"
      },
      "execution_count": 13,
      "outputs": []
    },
    {
      "cell_type": "code",
      "source": [
        "for column in columns:\n",
        "  token_train[column] = stemming_text(token_train[column].tolist())\n"
      ],
      "metadata": {
        "id": "SDvJj_uHzJQN"
      },
      "execution_count": 14,
      "outputs": []
    },
    {
      "cell_type": "code",
      "source": [
        "\n",
        "for column in columns:\n",
        "  print(token_train[column])\n"
      ],
      "metadata": {
        "colab": {
          "base_uri": "https://localhost:8080/"
        },
        "id": "dYwmkeyDzmMQ",
        "outputId": "545990f8-3ac1-4f9a-c984-c4c8b0a2ad34"
      },
      "execution_count": 15,
      "outputs": [
        {
          "output_type": "stream",
          "name": "stdout",
          "text": [
            "0               면진/NNG 장치/NNG 가/JKS 뭐/NP 이/VCP 야/EF ?/SF\n",
            "1          내진/NNG 설계/NNG 의/JKG 종류/NNG 좀/MAG 알려주다/VV 어/EF\n",
            "2      철골/NNG 구조/NNG 의/JKG 장점/NNG 이/JKS 뭐/NP 이/VCP 야/...\n",
            "3      철골/NNG 철근/NNG 콘크리트/NNG 구조/NNG 가/JKS 뭐/NP 이/VCP...\n",
            "4      철골/NNG 구조/NNG 는/JX 어떤/MM 방식/NNG 이/JKS 있/VA 어/E...\n",
            "                             ...                        \n",
            "639    벽장/NNG 부위/NNG 결/NNG 로/JKB 의/JKG 원인/NNG 이/JKS 뭐...\n",
            "640    AD/SL ,/SP PD/SL 에/JKB 면/XR 하/XSV ᆫ/ETM 벽체/NNG...\n",
            "641    외벽/NNG 모서리/NNG 부위/NNG 에/JKB 결/NNG 로/JKB 가다/VV ...\n",
            "642    창호/NNG 결/NNG 로/JKB 의/JKG 대책/NNG 은/JX 뭐/NP 이/VC...\n",
            "643    AD/SL ,/SP PD/SL 에/JKB 면/XR 하/XSV ᆫ/ETM 벽체/NNG...\n",
            "Name: 질문_1, Length: 644, dtype: object\n",
            "0      면진/NNG 장치/NNG 에/JKB 사용되다/VV 는/ETM 주요/NNG 기술/NN...\n",
            "1      내진/NNG 설계/NNG 에/JKB 는/JX 어떤/MM 종류/NNG 가/JKS 있다...\n",
            "2      철골/NNG 구조/NNG 의/JKG 장점/NNG 을/JKO 알려주다/VV 어/EF ...\n",
            "3      철골/NNG 철근/NNG 콘크리트/NNG 구조/NNG 의/JKG 장점/NNG 과/J...\n",
            "4      철골/NNG 구조/NNG 의/JKG 다양하다/VV ᆫ/ETM 방식/NNG 이/JKS...\n",
            "                             ...                        \n",
            "639    벽장/NNG 부위/NNG 결/NNG 로/JKB 가다/VV 어/EC 발생하다/VV 는...\n",
            "640    벽체/NNG 결/NNG 로/JKB 가다/VV 어/EC AD/SL 나/JC PD/SL...\n",
            "641    외벽/NNG 모서리/NNG 부위/NNG 에/JKB 결/NNG 로/JKB 가다/VV ...\n",
            "642    창호/NNP 결로/NNG 를/JKO 해결하다/VV 기/ETN 위하다/VV ᆫ/ETM...\n",
            "643    AD/SL ,/SP PD/SL 에/JKB 면/XR 하/XSV ᆫ/ETM 벽체/NNG...\n",
            "Name: 질문_2, Length: 644, dtype: object\n",
            "0      면진/NNG 장치/NNG 이/VCP 란/ETM 지반/NNG 에서/JKB 오다/VV ...\n",
            "1      내진/NNG 설계/NNG 의/JKG 종류/NNG 로/JKB 내진/NNG 구조/NNG...\n",
            "2      철골/NNG 구조/NNG 는/JX 건물/NNG 의/JKG 외벽/NNG 에/JKB 는...\n",
            "3      철근/NNG 철골/NNG 콘크리트/NNG 는/JX 철골/NNG 과/JC 철근/NNG...\n",
            "4      철골/NNG 구조/NNG 는/JX 일반/NNG 철골/NNG 구조/NNG 와/JC 경...\n",
            "                             ...                        \n",
            "639    벽장/NNG 부위/NNG 결/NNG 로/JKB 의/JKG 원인/NNG 은/JX 난방...\n",
            "640    AD/SL ,/SP PD/SL 에/JKB 면/XR 하/XSV ᆫ/ETM 벽체/NNG...\n",
            "641    외벽/NNG 모서리/NNG 부위/NNG 에/JKB 결로/NNG 가/JKS 발생하다/...\n",
            "642    창호/NNG 결/NNG 로/JKB 의/JKG 대책/NNG 은/JX 제품/NNG 을/...\n",
            "643    AD/SL ,/SP PD/SL 에/JKB 면/XR 하/XSV ᆫ/ETM 벽체/NNG...\n",
            "Name: 답변_1, Length: 644, dtype: object\n",
            "0      면진/NNG 장치/NNG 란/JX 건물/NNG 의/JKG 지반/NNG 에서/JKB ...\n",
            "1      내진/NNG 설계/NNG 에/JKB 는/JX 내진/NNG 구조/NNG ,/SP 제진...\n",
            "2      철골/NNG 구조/NNG 의/JKG 장점/NNG 은/JX 건물/NNG 의/JKG 외...\n",
            "3      철골/NNG 철근/NNG 콘크리트/NNG 구조/NNG 는/JX 건축물/NNG 을/J...\n",
            "4      철골/NNG 구조/NNG 는/JX 일반/NNG 철골/NNG 구조/NNG 와/JC 경...\n",
            "                             ...                        \n",
            "639    벽장/NNG 부위/NNG 결/NNG 로/JKB 의/JKG 원인/NNG 은/JX 주로...\n",
            "640    AD/SL ,/SP PD/SL 에/JKB 면/XR 하/XSV ᆫ/ETM 벽체/NNG...\n",
            "641    외벽/NNG 모서리/NNG 부위/NNG 에/JKB 결/NNG 로/JKB 가다/VV ...\n",
            "642    창호/NNG 결/NNG 로/JKB 의/JKG 대책/NNG 은/JX KS/SL 에/J...\n",
            "643    AD/SL ,/SP PD/SL 에/JKB 면/XR 하/XSV ᆫ/ETM 벽체/NNG...\n",
            "Name: 답변_2, Length: 644, dtype: object\n",
            "0      면진/NNG 장치/NNG 란/JX 지반/NNG 으로부터/JKB 발생하다/VV 는/E...\n",
            "1      내진/NNG 설계/NNG 에/JKB 는/JX 주로/MAG 내진/NNG 구조/NNG ...\n",
            "2      철골/NNG 구조/NNG 의/JKG 장점/NNG 은/JX 건물/NNG 의/JKG 외...\n",
            "3      철골/NNG 철근/NNG 콘크리트/NNG 구조/NNG 는/JX 건축물/NNG 을/J...\n",
            "4      철골/NNG 구조/NNG 는/JX 주로/MAG 일반/NNG 철골/NNG 구조/NNG...\n",
            "                             ...                        \n",
            "639    벽장/NNG 부위/NNG 결/NNG 로/JKB 가다/VV 어/EC 발생하다/VV 는...\n",
            "640    AD/SL ,/SP PD/SL 에/JKB 면/XR 하/XSV ᆫ/ETM 벽체/NNG...\n",
            "641    외벽/NNG 모서리/NNG 부위/NNG 에/JKB 결/NNG 로/JKB 가다/VV ...\n",
            "642    창호/NNP 결로/NNG 를/JKO 예방하다/VV 기/ETN 위하다/VV ᆫ/ETM...\n",
            "643    AD/SL ,/SP PD/SL 에/JKB 면/XR 하/XSV ᆫ/ETM 벽체/NNG...\n",
            "Name: 답변_3, Length: 644, dtype: object\n",
            "0      면진/NNG 장치/NNG 는/JX 건물/NNG 의/JKG 지반/NNG 으로부터/JK...\n",
            "1      내진/NNG 설계/NNG 에/JKB 는/JX 주로/MAG 내진/NNG 구조/NNG ...\n",
            "2      철골/NNG 구조/NNG 의/JKG 장점/NNG 은/JX 건물/NNG 의/JKG 외...\n",
            "3      철골/NNG 철근/NNG 콘크리트/NNG 구조/NNG 는/JX 철골/NNG 과/JC...\n",
            "4      철골/NNG 구조/NNG 는/JX 주로/MAG 일반/NNG 철골/NNG 구조/NNG...\n",
            "                             ...                        \n",
            "639    벽장/NNG 부위/NNG 결/NNG 로/JKB 가다/VV 어/EC 발생하다/VV 는...\n",
            "640    AD/SL ,/SP PD/SL 에/JKB 면/XR 하/XSV ᆫ/ETM 벽체/NNG...\n",
            "641    외벽/NNG 모서리/NNG 부위/NNG 에/JKB 결/NNG 로/JKB 가다/VV ...\n",
            "642    창호/NNG 결/NNG 로/JKB 의/JKG 대책/NNG 은/JX 여러/MM 가지/...\n",
            "643    AD/SL ,/SP PD/SL 에/JKB 면/XR 하/XSV ᆫ/ETM 벽체/NNG...\n",
            "Name: 답변_4, Length: 644, dtype: object\n",
            "0      면진/NNG 장치/NNG 는/JX 건물/NNG 에/JKB 오다/VV 는/ETM 지반...\n",
            "1      내진/NNG 설계/NNG 에/JKB 는/JX 다양하다/VV ᆫ/ETM 종류/NNG ...\n",
            "2      철골/NNG 구조/NNG 의/JKG 장점/NNG 은/JX 건물/NNG 의/JKG 외...\n",
            "3      철골/NNG 철근/NNG 콘크리트/NNG 구조/NNG 는/JX 강철/NNG 골조/N...\n",
            "4      철골/NNG 구조/NNG 는/JX 일반/NNG 철골/NNG 구조/NNG 와/JC 경...\n",
            "                             ...                        \n",
            "639    벽장/NNG 부위/NNG 결/NNG 로/JKB 의/JKG 주되다/VV ᆫ/ETM 원...\n",
            "640    AD/SL ,/SP PD/SL 에/JKB 면/XR 하/XSV ᆫ/ETM 벽체/NNG...\n",
            "641    외벽/NNG 모서리/NNG 부위/NNG 에/JKB 결/NNG 로/JKB 가다/VV ...\n",
            "642    창호/NNP 결로/NNG 를/JKO 방지하다/VV 기/ETN 위하다/VV ᆫ/ETM...\n",
            "643    AD/SL ,/SP PD/SL 에/JKB 면/XR 하/XSV ᆫ/ETM 벽체/NNG...\n",
            "Name: 답변_5, Length: 644, dtype: object\n"
          ]
        }
      ]
    },
    {
      "cell_type": "code",
      "source": [
        "stopwords = ['ᆸ니다/EF', '데/NNB', '좀/MAG','및/MAG', '수/NNB', '등/NNB', '를/JKO', '을/JKO', '의/JKG', '가/JKS', '으로/JKB']\n",
        "# 불용어 제거 함수 정의\n",
        "additional_tags = ['JKS', 'JKC', 'JKG', 'JKO', 'JKB', 'JKV', 'JKQ', '/JX', '/JC']\n",
        "\n",
        "def remove_stopword_text(text):\n",
        "  corpus = []\n",
        "  for sent in text.str.split(\" \"):\n",
        "      modi_sent = []\n",
        "      for word in sent:\n",
        "         if word[-3:] in additional_tags :\n",
        "            continue\n",
        "         if word not in stopwords :\n",
        "              modi_sent.append(word)\n",
        "      corpus.append(' '.join(modi_sent))\n",
        "  return corpus\n"
      ],
      "metadata": {
        "id": "0gC4rTkgds_7"
      },
      "execution_count": 16,
      "outputs": []
    },
    {
      "cell_type": "code",
      "source": [
        "for col in columns:\n",
        "    token_train[col] = remove_stopword_text(token_train[col])\n"
      ],
      "metadata": {
        "id": "QjuJ1KEVoCH3"
      },
      "execution_count": 17,
      "outputs": []
    },
    {
      "cell_type": "code",
      "source": [
        "print(token_train)"
      ],
      "metadata": {
        "id": "h_2aHt9SoPFM",
        "colab": {
          "base_uri": "https://localhost:8080/"
        },
        "outputId": "c1a5c4d2-8a9b-4b21-99e5-9bfed8965e57"
      },
      "execution_count": 18,
      "outputs": [
        {
          "output_type": "stream",
          "name": "stdout",
          "text": [
            "            id                                               질문_1  \\\n",
            "0    TRAIN_000                 면진/NNG 장치/NNG 뭐/NP 이/VCP 야/EF ?/SF   \n",
            "1    TRAIN_001                  내진/NNG 설계/NNG 종류/NNG 알려주다/VV 어/EF   \n",
            "2    TRAIN_002          철골/NNG 구조/NNG 장점/NNG 뭐/NP 이/VCP 야/EF ?/SF   \n",
            "3    TRAIN_003  철골/NNG 철근/NNG 콘크리트/NNG 구조/NNG 뭐/NP 이/VCP 야/EF ...   \n",
            "4    TRAIN_004          철골/NNG 구조/NNG 어떤/MM 방식/NNG 있/VA 어/EF ?/SF   \n",
            "..         ...                                                ...   \n",
            "639  TRAIN_639    벽장/NNG 부위/NNG 결/NNG 원인/NNG 뭐/NP 이/VCP 야/EF ?/SF   \n",
            "640  TRAIN_640  AD/SL ,/SP PD/SL 면/XR 하/XSV ᆫ/ETM 벽체/NNG 결/NNG...   \n",
            "641  TRAIN_641  외벽/NNG 모서리/NNG 부위/NNG 결/NNG 가다/VV 어/EC 발생하다/VV...   \n",
            "642  TRAIN_642           창호/NNG 결/NNG 대책/NNG 뭐/NP 이/VCP 야/EF ?/SF   \n",
            "643  TRAIN_643  AD/SL ,/SP PD/SL 면/XR 하/XSV ᆫ/ETM 벽체/NNG 결로/NN...   \n",
            "\n",
            "                                                  질문_2 category  \\\n",
            "0    면진/NNG 장치/NNG 사용되다/VV 는/ETM 주요/NNG 기술/NNG 무엇/N...     건축구조   \n",
            "1    내진/NNG 설계/NNG 어떤/MM 종류/NNG 있다/VV 는지/EC 자세히/MAG...     건축구조   \n",
            "2               철골/NNG 구조/NNG 장점/NNG 알려주다/VV 어/EF ?/SF     건축구조   \n",
            "3    철골/NNG 철근/NNG 콘크리트/NNG 구조/NNG 장점/NNG 단점/NNG 무엇...     건축구조   \n",
            "4    철골/NNG 구조/NNG 다양하다/VV ᆫ/ETM 방식/NNG 무엇/NP 이/VCP...     건축구조   \n",
            "..                                                 ...      ...   \n",
            "639  벽장/NNG 부위/NNG 결/NNG 가다/VV 어/EC 발생하다/VV 는/ETM 주...   타 마감하자   \n",
            "640  벽체/NNG 결/NNG 가다/VV 어/EC AD/SL PD/SL 면하다/VV ᆫ다면...   타 마감하자   \n",
            "641  외벽/NNG 모서리/NNG 부위/NNG 결/NNG 가다/VV 어/EC 발생하다/VV...   타 마감하자   \n",
            "642  창호/NNP 결로/NNG 해결하다/VV 기/ETN 위하다/VV ᆫ/ETM 가장/MA...   타 마감하자   \n",
            "643  AD/SL ,/SP PD/SL 면/XR 하/XSV ᆫ/ETM 벽체/NNG 결로/NN...   타 마감하자   \n",
            "\n",
            "                                                  답변_1  \\\n",
            "0    면진/NNG 장치/NNG 이/VCP 란/ETM 지반/NNG 오다/VV 는/ETM 진...   \n",
            "1    내진/NNG 설계/NNG 종류/NNG 내진/NNG 구조/NNG ,/SP 제진구조/N...   \n",
            "2    철골/NNG 구조/NNG 건물/NNG 외벽/NNG 그다지/MAG 하중/NNG 걸리다...   \n",
            "3    철근/NNG 철골/NNG 콘크리트/NNG 철골/NNG 철근/NNG ,/SP 그리고/...   \n",
            "4    철골/NNG 구조/NNG 일반/NNG 철골/NNG 구조/NNG 경량/NNG 철골/N...   \n",
            "..                                                 ...   \n",
            "639  벽장/NNG 부위/NNG 결/NNG 원인/NNG 난방/NNG 이웃/NNG 한/MM ...   \n",
            "640  AD/SL ,/SP PD/SL 면/XR 하/XSV ᆫ/ETM 벽체/NNG 결/NNG...   \n",
            "641  외벽/NNG 모서리/NNG 부위/NNG 결로/NNG 발생하다/VV 는/ETM 원인/...   \n",
            "642  창호/NNG 결/NNG 대책/NNG 제품/NNG 선정하다/VV ᆯ/ETM 때/NNG...   \n",
            "643  AD/SL ,/SP PD/SL 면/XR 하/XSV ᆫ/ETM 벽체/NNG 결로/NN...   \n",
            "\n",
            "                                                  답변_2  \\\n",
            "0    면진/NNG 장치/NNG 건물/NNG 지반/NNG 발생하다/VV 는/ETM 진동/N...   \n",
            "1    내진/NNG 설계/NNG 내진/NNG 구조/NNG ,/SP 제진구조/NNG ,/SP...   \n",
            "2    철골/NNG 구조/NNG 장점/NNG 건물/NNG 외벽/NNG 그다지/MAG 하중/...   \n",
            "3    철골/NNG 철근/NNG 콘크리트/NNG 구조/NNG 건축물/NNG 지탱하다/VV ...   \n",
            "4    철골/NNG 구조/NNG 일반/NNG 철골/NNG 구조/NNG 경량/NNG 철골/N...   \n",
            "..                                                 ...   \n",
            "639  벽장/NNG 부위/NNG 결/NNG 원인/NNG 주로/MAG 난방/NNG 자리/NN...   \n",
            "640  AD/SL ,/SP PD/SL 면/XR 하/XSV ᆫ/ETM 벽체/NNG 결/NNG...   \n",
            "641  외벽/NNG 모서리/NNG 부위/NNG 결/NNG 가다/VV 어/EC 발생하다/VV...   \n",
            "642  창호/NNG 결/NNG 대책/NNG KS/SL 규정되다/VV ᆫ/ETM 프레임/NN...   \n",
            "643  AD/SL ,/SP PD/SL 면/XR 하/XSV ᆫ/ETM 벽체/NNG 결로/NN...   \n",
            "\n",
            "                                                  답변_3  \\\n",
            "0    면진/NNG 장치/NNG 지반/NNG 발생하다/VV 는/ETM 진동/NNG 에너지/...   \n",
            "1    내진/NNG 설계/NNG 주로/MAG 내진/NNG 구조/NNG ,/SP 제진구조/N...   \n",
            "2    철골/NNG 구조/NNG 장점/NNG 건물/NNG 외벽/NNG 하중/NNG 적/VA...   \n",
            "3    철골/NNG 철근/NNG 콘크리트/NNG 구조/NNG 건축물/NNG 지탱하다/VV ...   \n",
            "4    철골/NNG 구조/NNG 주로/MAG 일반/NNG 철골/NNG 구조/NNG 경량/N...   \n",
            "..                                                 ...   \n",
            "639  벽장/NNG 부위/NNG 결/NNG 가다/VV 어/EC 발생하다/VV 는/ETM 원...   \n",
            "640  AD/SL ,/SP PD/SL 면/XR 하/XSV ᆫ/ETM 벽체/NNG 결/NNG...   \n",
            "641  외벽/NNG 모서리/NNG 부위/NNG 결/NNG 가다/VV 어/EC 발생하다/VV...   \n",
            "642  창호/NNP 결로/NNG 예방하다/VV 기/ETN 위하다/VV ᆫ/ETM 대책/NN...   \n",
            "643  AD/SL ,/SP PD/SL 면/XR 하/XSV ᆫ/ETM 벽체/NNG 결로/NN...   \n",
            "\n",
            "                                                  답변_4  \\\n",
            "0    면진/NNG 장치/NNG 건물/NNG 지반/NNG 오다/VV 는/ETM 진동/NNG...   \n",
            "1    내진/NNG 설계/NNG 주로/MAG 내진/NNG 구조/NNG ,/SP 제진구조/N...   \n",
            "2    철골/NNG 구조/NNG 장점/NNG 건물/NNG 외벽/NNG 하중/NNG 걸리다/...   \n",
            "3    철골/NNG 철근/NNG 콘크리트/NNG 구조/NNG 철골/NNG 철근/NNG ,/...   \n",
            "4    철골/NNG 구조/NNG 주로/MAG 일반/NNG 철골/NNG 구조/NNG 경량/N...   \n",
            "..                                                 ...   \n",
            "639  벽장/NNG 부위/NNG 결/NNG 가다/VV 어/EC 발생하다/VV 는/ETM 원...   \n",
            "640  AD/SL ,/SP PD/SL 면/XR 하/XSV ᆫ/ETM 벽체/NNG 결/NNG...   \n",
            "641  외벽/NNG 모서리/NNG 부위/NNG 결/NNG 가다/VV 어/EC 발생하다/VV...   \n",
            "642  창호/NNG 결/NNG 대책/NNG 여러/MM 가지/NNB 있/VA 습니다/EF ....   \n",
            "643  AD/SL ,/SP PD/SL 면/XR 하/XSV ᆫ/ETM 벽체/NNG 결로/NN...   \n",
            "\n",
            "                                                  답변_5  \n",
            "0    면진/NNG 장치/NNG 건물/NNG 오다/VV 는/ETM 지반/NNG 진동/NNG...  \n",
            "1    내진/NNG 설계/NNG 다양하다/VV ᆫ/ETM 종류/NNG 있다/VV 지만/EC...  \n",
            "2    철골/NNG 구조/NNG 장점/NNG 건물/NNG 외벽/NNG 하중/NNG 크/VA...  \n",
            "3    철골/NNG 철근/NNG 콘크리트/NNG 구조/NNG 강철/NNG 골조/NNG 강철...  \n",
            "4    철골/NNG 구조/NNG 일반/NNG 철골/NNG 구조/NNG 경량/NNG 철골/N...  \n",
            "..                                                 ...  \n",
            "639  벽장/NNG 부위/NNG 결/NNG 주되다/VV ᆫ/ETM 원인/NNG 충분하/VA...  \n",
            "640  AD/SL ,/SP PD/SL 면/XR 하/XSV ᆫ/ETM 벽체/NNG 결/NNG...  \n",
            "641  외벽/NNG 모서리/NNG 부위/NNG 결/NNG 가다/VV 어/EC 발생하다/VV...  \n",
            "642  창호/NNP 결로/NNG 방지하다/VV 기/ETN 위하다/VV ᆫ/ETM 대책/NN...  \n",
            "643  AD/SL ,/SP PD/SL 면/XR 하/XSV ᆫ/ETM 벽체/NNG 결로/NN...  \n",
            "\n",
            "[644 rows x 9 columns]\n"
          ]
        }
      ]
    },
    {
      "cell_type": "code",
      "source": [],
      "metadata": {
        "id": "vtooJLUVFwkB"
      },
      "execution_count": null,
      "outputs": []
    }
  ]
}