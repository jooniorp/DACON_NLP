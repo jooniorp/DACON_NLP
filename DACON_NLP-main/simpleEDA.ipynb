{
 "cells": [
  {
   "cell_type": "markdown",
   "metadata": {},
   "source": [
    "# EDA"
   ]
  },
  {
   "cell_type": "markdown",
   "metadata": {},
   "source": [
    "**train.csv**\n",
    "|Column|Info.|\n",
    "|:---:|---|\n",
    "|id|답변 (QA) 샘플 고유 번호|\n",
    "|질문_1, 질문_2|샘플 별 동일한 내용으로 구성된 질문 2개|\n",
    "|category|질문 - 답변 (QA) 샘플의 도메인 세부 분야|\n",
    "|답변_1, 답변_2, 답변_3, 답변_4, 답변_5|샘플 별 질문에 대한 동일한 답변 Reference 5개|"
   ]
  },
  {
   "cell_type": "code",
   "execution_count": 22,
   "metadata": {},
   "outputs": [],
   "source": [
    "from collections import Counter\n",
    "from utils.util import extract_details\n",
    "\n",
    "import re\n",
    "import pandas as pd\n",
    "import numpy as np\n",
    "import seaborn as sns\n",
    "import matplotlib.pyplot as plt\n",
    "plt.rcParams['font.family'] ='Malgun Gothic'\n",
    "plt.rcParams['axes.unicode_minus'] =False"
   ]
  },
  {
   "cell_type": "code",
   "execution_count": 23,
   "metadata": {},
   "outputs": [
    {
     "data": {
      "text/html": [
       "<div>\n",
       "<style scoped>\n",
       "    .dataframe tbody tr th:only-of-type {\n",
       "        vertical-align: middle;\n",
       "    }\n",
       "\n",
       "    .dataframe tbody tr th {\n",
       "        vertical-align: top;\n",
       "    }\n",
       "\n",
       "    .dataframe thead th {\n",
       "        text-align: right;\n",
       "    }\n",
       "</style>\n",
       "<table border=\"1\" class=\"dataframe\">\n",
       "  <thead>\n",
       "    <tr style=\"text-align: right;\">\n",
       "      <th></th>\n",
       "      <th>id</th>\n",
       "      <th>질문_1</th>\n",
       "      <th>질문_2</th>\n",
       "      <th>category</th>\n",
       "      <th>답변_1</th>\n",
       "      <th>답변_2</th>\n",
       "      <th>답변_3</th>\n",
       "      <th>답변_4</th>\n",
       "      <th>답변_5</th>\n",
       "    </tr>\n",
       "  </thead>\n",
       "  <tbody>\n",
       "    <tr>\n",
       "      <th>0</th>\n",
       "      <td>TRAIN_000</td>\n",
       "      <td>면진장치가 뭐야?</td>\n",
       "      <td>면진장치에 사용되는 주요 기술은 무엇인가요?</td>\n",
       "      <td>건축구조</td>\n",
       "      <td>면진장치란 지반에서 오는 진동 에너지를 흡수하여 건물에 주는 진동을 줄여주는 진동 ...</td>\n",
       "      <td>면진장치란 건물의 지반에서 발생하는 진동 에너지를 흡수하여 건물을 보호하고, 진동을...</td>\n",
       "      <td>면진장치란 지반으로부터 발생하는 진동 에너지를 흡수하여 건물에 전달되는 진동을 줄여...</td>\n",
       "      <td>면진장치는 건물의 지반으로부터 오는 진동 에너지를 흡수하여 건물에 전달되는 진동을 ...</td>\n",
       "      <td>면진장치는 건물에 오는 지반 진동의 영향을 최대한으로 흡수하여 건물에 전달되는 진동...</td>\n",
       "    </tr>\n",
       "    <tr>\n",
       "      <th>1</th>\n",
       "      <td>TRAIN_001</td>\n",
       "      <td>내진설계의 종류 좀 알려줘</td>\n",
       "      <td>내진설계에는 어떤 종류가 있는지 자세히 알려주실 수 있나요?</td>\n",
       "      <td>건축구조</td>\n",
       "      <td>내진 설계의 종류로 내진구조, 제진구조, 면진구조가 있습니다.</td>\n",
       "      <td>내진설계에는 내진구조, 제진구조, 면진구조가 있습니다. 내진구조는 건물 구조물이 지...</td>\n",
       "      <td>내진설계에는 주로 내진구조, 제진구조, 면진구조의 세 가지 종류가 있습니다. 이들은...</td>\n",
       "      <td>내진설계에는 주로 내진구조, 제진구조, 면진구조가 사용됩니다. 내진구조는 건물 구조...</td>\n",
       "      <td>내진 설계에는 다양한 종류가 있지만, 대표적으로 내진구조, 제진구조, 면진구조가 있...</td>\n",
       "    </tr>\n",
       "    <tr>\n",
       "      <th>2</th>\n",
       "      <td>TRAIN_002</td>\n",
       "      <td>철골구조의 장점이 뭐야?</td>\n",
       "      <td>철골구조의 장점을 알려줘?</td>\n",
       "      <td>건축구조</td>\n",
       "      <td>철골구조는 건물의 외벽에는 그다지 하중이 걸리지 않기 때문에 고층 건물의 건축이 가...</td>\n",
       "      <td>철골구조의 장점은 건물의 외벽에는 그다지 하중이 걸리지 않기 때문에 고층 건물의 건...</td>\n",
       "      <td>철골구조의 장점은 건물의 외벽에 하중이 적게 걸리기 때문에 고층 건물의 건축이 용이...</td>\n",
       "      <td>철골구조의 장점은 건물의 외벽이 하중이 걸리지 않아 공간 활용이 용이하고, 고층 건...</td>\n",
       "      <td>철골구조의 장점은 건물의 외벽에 하중이 크게 걸리지 않아 고층 건물을 건축할 수 있...</td>\n",
       "    </tr>\n",
       "    <tr>\n",
       "      <th>3</th>\n",
       "      <td>TRAIN_003</td>\n",
       "      <td>철골철근 콘크리트 구조가 뭐야?</td>\n",
       "      <td>철골철근 콘크리트 구조의 장점과 단점에는 무엇이 있을까요?</td>\n",
       "      <td>건축구조</td>\n",
       "      <td>철근철골콘크리트는 철골과 철근, 그리고 콘크리트를 함께 사용하는 건축 구조입니다. ...</td>\n",
       "      <td>철골철근콘크리트 구조는 건축물을 지탱하는 주요 구조물인 철골과 철근, 그리고 콘크리...</td>\n",
       "      <td>철골철근 콘크리트 구조는 건축물을 지탱하기 위한 구조물에서 일반적으로 사용되는 방식...</td>\n",
       "      <td>철골철근콘크리트 구조는 철골과 철근, 그리고 콘크리트를 함께 사용하여 만들어지는 건...</td>\n",
       "      <td>철골철근 콘크리트 구조는 강철 골조와 강철 철근, 그리고 콘크리트를 함께 사용하여 ...</td>\n",
       "    </tr>\n",
       "    <tr>\n",
       "      <th>4</th>\n",
       "      <td>TRAIN_004</td>\n",
       "      <td>철골구조는 어떤 방식이 있어?</td>\n",
       "      <td>철골구조의 다양한 방식이 무엇인가요?</td>\n",
       "      <td>건축구조</td>\n",
       "      <td>철골구조는 일반철골구조와 경량철골구조가 있습니다.</td>\n",
       "      <td>철골구조는 일반철골구조와 경량철골구조가 있습니다. 일반철골구조는 주로 대형 건물이나...</td>\n",
       "      <td>철골구조는 주로 일반철골구조와 경량철골구조로 나뉘어집니다. 이들은 건축 시스템에 따...</td>\n",
       "      <td>철골구조는 주로 일반철골구조와 경량철골구조로 구분됩니다. 이외에도 최근에는 고층 건...</td>\n",
       "      <td>철골구조는 일반철골구조와 경량철골구조 두 가지 방식이 주로 사용됩니다. 일반철골구조...</td>\n",
       "    </tr>\n",
       "    <tr>\n",
       "      <th>...</th>\n",
       "      <td>...</td>\n",
       "      <td>...</td>\n",
       "      <td>...</td>\n",
       "      <td>...</td>\n",
       "      <td>...</td>\n",
       "      <td>...</td>\n",
       "      <td>...</td>\n",
       "      <td>...</td>\n",
       "      <td>...</td>\n",
       "    </tr>\n",
       "    <tr>\n",
       "      <th>639</th>\n",
       "      <td>TRAIN_639</td>\n",
       "      <td>벽장 부위 결로의 원인이 뭐야?</td>\n",
       "      <td>벽장 부위 결로가 발생하는 주된 원인은 무엇일까요?</td>\n",
       "      <td>타 마감하자</td>\n",
       "      <td>벽장 부위 결로의 원인은 난방이 이웃한 방과동일한 조건이 되나 그 방에 비해 저온인...</td>\n",
       "      <td>벽장 부위 결로의 원인은 주로 난방이 자리잡은 방이 내부 온도가 낮은 반면, 외부 ...</td>\n",
       "      <td>벽장 부위 결로가 발생하는 원인은 난방이 잘 이루어지지 않아 해당 공간이 저온인 반...</td>\n",
       "      <td>벽장 부위 결로가 발생하는 원인은 난방이 인접한 방과 같은 조건을 갖추고 있지만, ...</td>\n",
       "      <td>벽장 부위 결로의 주된 원인은 충분한 환기가 이루어지지 않는 환경과 과도한 습기가 ...</td>\n",
       "    </tr>\n",
       "    <tr>\n",
       "      <th>640</th>\n",
       "      <td>TRAIN_640</td>\n",
       "      <td>AD, PD에 면한 벽체 결로의 원인이 뭐야?</td>\n",
       "      <td>벽체 결로가 AD나 PD에 면한다면 그 원인이 무엇인가요?</td>\n",
       "      <td>타 마감하자</td>\n",
       "      <td>AD, PD에 면한 벽체 결로의 원인은 외기에 접하는 면 좌, 우측 벽체에는 단열재...</td>\n",
       "      <td>AD, PD에 면한 벽체 결로의 원인은 외기에 접하는 면 좌, 우측 벽체에는 단열재...</td>\n",
       "      <td>AD, PD에 면한 벽체 결로의 주된 원인은 외기에 접하는 면 좌, 우측 벽체에 단...</td>\n",
       "      <td>AD, PD에 면한 벽체 결로의 원인으로는 외기에 접하는 면 좌, 우측 벽체는 일반...</td>\n",
       "      <td>AD, PD에 면한 벽체 결로의 원인으로는 외부 공기에 노출된 벽면이 실내보다 냉각...</td>\n",
       "    </tr>\n",
       "    <tr>\n",
       "      <th>641</th>\n",
       "      <td>TRAIN_641</td>\n",
       "      <td>외벽 모서리 부위에 결로가 발생하는 원인이 뭐야?</td>\n",
       "      <td>외벽 모서리 부위에 결로가 발생하는 것을 예방하는 방법이 있을까요?</td>\n",
       "      <td>타 마감하자</td>\n",
       "      <td>외벽모서리 부위에 결로가 발생하는 원인은 높은 온도차 때문입니다. 외벽 모서리의 경...</td>\n",
       "      <td>외벽 모서리 부위에 결로가 발생하는 원인은 중요한 역할을 합니다. 외부에 비치는 세...</td>\n",
       "      <td>외벽 모서리 부위에 결로가 발생하는 원인으로는 높은 온도차가 대표적입니다. 외벽 모...</td>\n",
       "      <td>외벽 모서리 부위에 결로가 발생하는 원인은 실내와 외부의 온도차 때문입니다. 외벽 ...</td>\n",
       "      <td>외벽 모서리 부위에 결로가 발생하는 주요 원인은 높은 온도차입니다. 외벽 모서리는 ...</td>\n",
       "    </tr>\n",
       "    <tr>\n",
       "      <th>642</th>\n",
       "      <td>TRAIN_642</td>\n",
       "      <td>창호 결로의 대책은 뭐야?</td>\n",
       "      <td>창호 결로를 해결하기 위한 가장 효과적인 방법은 무엇인가요?</td>\n",
       "      <td>타 마감하자</td>\n",
       "      <td>창호결로의 대책은 제품을 선정할 때 KS에 규정된 프레임을 선정하고 유리의 열관류율...</td>\n",
       "      <td>창호 결로의 대책은 KS에 규정된 프레임을 선정하고 유리의 열관류율 및 결로 발생 ...</td>\n",
       "      <td>창호 결로를 예방하기 위한 대책은 KS에 규정된 프레임을 선택하고, 열관류율이 적은...</td>\n",
       "      <td>창호 결로의 대책은 여러 가지가 있습니다. 먼저, 창호를 선택할 때 KS에 규정된 ...</td>\n",
       "      <td>창호 결로를 방지하기 위한 대책으로는 KS에 규정된 프레임을 사용하고, 열관류율 및...</td>\n",
       "    </tr>\n",
       "    <tr>\n",
       "      <th>643</th>\n",
       "      <td>TRAIN_643</td>\n",
       "      <td>AD, PD에 면한 벽체 결로에 대한 대책은 뭐야?</td>\n",
       "      <td>AD, PD에 면한 벽체 결로에 대한 대책은 어떤 것이 있나요?</td>\n",
       "      <td>타 마감하자</td>\n",
       "      <td>AD, PD에 면한 벽체 결로에 대한 대책은 단열재를 미실하게 시공하여 결로가 생기...</td>\n",
       "      <td>AD, PD에 면한 벽체 결로에 대한 대책은 단열재를 미실하게 시공하여 결로가 생기...</td>\n",
       "      <td>AD, PD에 면한 벽체 결로에 대한 대책은 단열재를 미실하게 시공하여 결로가 생기...</td>\n",
       "      <td>AD, PD에 면한 벽체 결로에 대한 대책은 단열재를 미실하게 시공하여 결로가 생기...</td>\n",
       "      <td>AD, PD에 면한 벽체의 결로에 대한 대책으로는 단열재를 미실하게 시공하여 결로가...</td>\n",
       "    </tr>\n",
       "  </tbody>\n",
       "</table>\n",
       "<p>644 rows × 9 columns</p>\n",
       "</div>"
      ],
      "text/plain": [
       "            id  ...                                               답변_5\n",
       "0    TRAIN_000  ...  면진장치는 건물에 오는 지반 진동의 영향을 최대한으로 흡수하여 건물에 전달되는 진동...\n",
       "1    TRAIN_001  ...  내진 설계에는 다양한 종류가 있지만, 대표적으로 내진구조, 제진구조, 면진구조가 있...\n",
       "2    TRAIN_002  ...  철골구조의 장점은 건물의 외벽에 하중이 크게 걸리지 않아 고층 건물을 건축할 수 있...\n",
       "3    TRAIN_003  ...  철골철근 콘크리트 구조는 강철 골조와 강철 철근, 그리고 콘크리트를 함께 사용하여 ...\n",
       "4    TRAIN_004  ...  철골구조는 일반철골구조와 경량철골구조 두 가지 방식이 주로 사용됩니다. 일반철골구조...\n",
       "..         ...  ...                                                ...\n",
       "639  TRAIN_639  ...  벽장 부위 결로의 주된 원인은 충분한 환기가 이루어지지 않는 환경과 과도한 습기가 ...\n",
       "640  TRAIN_640  ...  AD, PD에 면한 벽체 결로의 원인으로는 외부 공기에 노출된 벽면이 실내보다 냉각...\n",
       "641  TRAIN_641  ...  외벽 모서리 부위에 결로가 발생하는 주요 원인은 높은 온도차입니다. 외벽 모서리는 ...\n",
       "642  TRAIN_642  ...  창호 결로를 방지하기 위한 대책으로는 KS에 규정된 프레임을 사용하고, 열관류율 및...\n",
       "643  TRAIN_643  ...  AD, PD에 면한 벽체의 결로에 대한 대책으로는 단열재를 미실하게 시공하여 결로가...\n",
       "\n",
       "[644 rows x 9 columns]"
      ]
     },
     "execution_count": 23,
     "metadata": {},
     "output_type": "execute_result"
    }
   ],
   "source": [
    "original_df = pd.read_csv('./data/train.csv')\n",
    "\n",
    "df = original_df.copy()\n",
    "\n",
    "df"
   ]
  },
  {
   "cell_type": "markdown",
   "metadata": {},
   "source": [
    "Null 값이 없는 걸로 확인(`np.nan`이나 'NULL'과 같은 자체적으로 정한 결측값 포함)."
   ]
  },
  {
   "cell_type": "code",
   "execution_count": 24,
   "metadata": {},
   "outputs": [
    {
     "name": "stdout",
     "output_type": "stream",
     "text": [
      "<class 'pandas.core.frame.DataFrame'>\n",
      "RangeIndex: 644 entries, 0 to 643\n",
      "Data columns (total 9 columns):\n",
      " #   Column    Non-Null Count  Dtype \n",
      "---  ------    --------------  ----- \n",
      " 0   id        644 non-null    object\n",
      " 1   질문_1      644 non-null    object\n",
      " 2   질문_2      644 non-null    object\n",
      " 3   category  644 non-null    object\n",
      " 4   답변_1      644 non-null    object\n",
      " 5   답변_2      644 non-null    object\n",
      " 6   답변_3      644 non-null    object\n",
      " 7   답변_4      644 non-null    object\n",
      " 8   답변_5      644 non-null    object\n",
      "dtypes: object(9)\n",
      "memory usage: 45.4+ KB\n"
     ]
    }
   ],
   "source": [
    "df.info()"
   ]
  },
  {
   "cell_type": "code",
   "execution_count": 25,
   "metadata": {},
   "outputs": [
    {
     "data": {
      "text/html": [
       "<div>\n",
       "<style scoped>\n",
       "    .dataframe tbody tr th:only-of-type {\n",
       "        vertical-align: middle;\n",
       "    }\n",
       "\n",
       "    .dataframe tbody tr th {\n",
       "        vertical-align: top;\n",
       "    }\n",
       "\n",
       "    .dataframe thead th {\n",
       "        text-align: right;\n",
       "    }\n",
       "</style>\n",
       "<table border=\"1\" class=\"dataframe\">\n",
       "  <thead>\n",
       "    <tr style=\"text-align: right;\">\n",
       "      <th></th>\n",
       "      <th>id</th>\n",
       "      <th>질문_1</th>\n",
       "      <th>질문_2</th>\n",
       "      <th>category</th>\n",
       "      <th>답변_1</th>\n",
       "      <th>답변_2</th>\n",
       "      <th>답변_3</th>\n",
       "      <th>답변_4</th>\n",
       "      <th>답변_5</th>\n",
       "    </tr>\n",
       "  </thead>\n",
       "  <tbody>\n",
       "    <tr>\n",
       "      <th>count</th>\n",
       "      <td>644</td>\n",
       "      <td>644</td>\n",
       "      <td>644</td>\n",
       "      <td>644</td>\n",
       "      <td>644</td>\n",
       "      <td>644</td>\n",
       "      <td>644</td>\n",
       "      <td>644</td>\n",
       "      <td>644</td>\n",
       "    </tr>\n",
       "    <tr>\n",
       "      <th>unique</th>\n",
       "      <td>644</td>\n",
       "      <td>643</td>\n",
       "      <td>643</td>\n",
       "      <td>7</td>\n",
       "      <td>643</td>\n",
       "      <td>644</td>\n",
       "      <td>644</td>\n",
       "      <td>644</td>\n",
       "      <td>644</td>\n",
       "    </tr>\n",
       "    <tr>\n",
       "      <th>top</th>\n",
       "      <td>TRAIN_000</td>\n",
       "      <td>장판의 장점이 뭐야?</td>\n",
       "      <td>오리지널징크의 장점은 무엇인가요?</td>\n",
       "      <td>마감재</td>\n",
       "      <td>누수에 의해 도배지가 젖어 있는 상태가 지속되면 곰팡이가 발생할 수 있습니다.</td>\n",
       "      <td>면진장치란 건물의 지반에서 발생하는 진동 에너지를 흡수하여 건물을 보호하고, 진동을...</td>\n",
       "      <td>면진장치란 지반으로부터 발생하는 진동 에너지를 흡수하여 건물에 전달되는 진동을 줄여...</td>\n",
       "      <td>면진장치는 건물의 지반으로부터 오는 진동 에너지를 흡수하여 건물에 전달되는 진동을 ...</td>\n",
       "      <td>면진장치는 건물에 오는 지반 진동의 영향을 최대한으로 흡수하여 건물에 전달되는 진동...</td>\n",
       "    </tr>\n",
       "    <tr>\n",
       "      <th>freq</th>\n",
       "      <td>1</td>\n",
       "      <td>2</td>\n",
       "      <td>2</td>\n",
       "      <td>272</td>\n",
       "      <td>2</td>\n",
       "      <td>1</td>\n",
       "      <td>1</td>\n",
       "      <td>1</td>\n",
       "      <td>1</td>\n",
       "    </tr>\n",
       "  </tbody>\n",
       "</table>\n",
       "</div>"
      ],
      "text/plain": [
       "               id  ...                                               답변_5\n",
       "count         644  ...                                                644\n",
       "unique        644  ...                                                644\n",
       "top     TRAIN_000  ...  면진장치는 건물에 오는 지반 진동의 영향을 최대한으로 흡수하여 건물에 전달되는 진동...\n",
       "freq            1  ...                                                  1\n",
       "\n",
       "[4 rows x 9 columns]"
      ]
     },
     "execution_count": 25,
     "metadata": {},
     "output_type": "execute_result"
    }
   ],
   "source": [
    "df.describe(include='all')"
   ]
  },
  {
   "cell_type": "code",
   "execution_count": 26,
   "metadata": {},
   "outputs": [
    {
     "name": "stdout",
     "output_type": "stream",
     "text": [
      "마감재       272\n",
      "인테리어      123\n",
      "시공        111\n",
      "마감하자       60\n",
      "건축구조       31\n",
      "기타         27\n",
      "타 마감하자     20\n",
      "Name: category, dtype: int64\n"
     ]
    },
    {
     "data": {
      "image/png": "[encoded data removed]",
      "text/plain": [
       "<Figure size 432x288 with 1 Axes>"
      ]
     },
     "metadata": {
      "needs_background": "light"
     },
     "output_type": "display_data"
    }
   ],
   "source": [
    "df_category_counts = df['category'].value_counts()\n",
    "\n",
    "print(df_category_counts)\n",
    "\n",
    "df_category_counts.sort_values(ascending=True).plot(kind='barh', color='skyblue')\n",
    "\n",
    "plt.title('Cateogry Distribution')\n",
    "plt.xlabel('Counts')\n",
    "plt.ylabel('Categories')\n",
    "plt.tight_layout()\n",
    "plt.show()"
   ]
  },
  {
   "cell_type": "markdown",
   "metadata": {},
   "source": [
    "질문, 답변 모두 유사한 분포를 보이고, 대체로 짧은 길이에서 높은 빈도를 보임."
   ]
  },
  {
   "cell_type": "code",
   "execution_count": 27,
   "metadata": {},
   "outputs": [
    {
     "data": {
      "image/png": "[encoded data removed]",
      "text/plain": [
       "<Figure size 720x864 with 2 Axes>"
      ]
     },
     "metadata": {
      "needs_background": "light"
     },
     "output_type": "display_data"
    }
   ],
   "source": [
    "df['질문_1_len'] = df['질문_1'].apply(len)\n",
    "df['질문_2_len'] = df['질문_2'].apply(len)\n",
    "answer_cols = ['답변_1', '답변_2', '답변_3', '답변_4', '답변_5']\n",
    "for col in answer_cols:\n",
    "    df[f'{col}_len'] = df[col].apply(len)\n",
    "\n",
    "fig, ax = plt.subplots(2, 1, figsize=(10, 12))\n",
    "sns.histplot(df[['질문_1_len', '질문_2_len']], ax=ax[0], bins=30, kde=True)\n",
    "ax[0].set_title('질문 길이의 분포')\n",
    "sns.histplot(df[[f'{col}_len' for col in answer_cols]], ax=ax[1], bins=30, kde=True)\n",
    "ax[1].set_title('답변 길이의 분포')\n",
    "plt.tight_layout()\n",
    "plt.show()"
   ]
  },
  {
   "cell_type": "markdown",
   "metadata": {},
   "source": [
    "유사도가 큰 질문과 답변이 있으므로, 학습을 시킬 때 주의해야 할 것 같음."
   ]
  },
  {
   "cell_type": "code",
   "execution_count": 34,
   "metadata": {},
   "outputs": [
    {
     "data": {
      "text/plain": [
       "[{'유사도': 1.0000000000000004,\n",
       "  '질문1_1': '초배작업이 뭐야?',\n",
       "  '질문1_2': '초배작업은 무엇을 의미하나요?',\n",
       "  '질문2_1': '초배작업이 뭐야?',\n",
       "  '질문2_2': '초배작업은 무엇을 의미하나요?',\n",
       "  '답변1_1': '도배를 위한 기초작업으로 부직포, 운용지, 네바리 등의 시공을 통틀어 초배작업이라고 합니다.',\n",
       "  '답변2_1': '도배를 위한 기초작업으로 부직포, 운용지, 네바리 등의 시공을 통틀어 초배작업이라고 합니다.',\n",
       "  '답변1_2': '초배작업은 도배를 하기 전에 벽면에 시행하는 작업으로, 부직포, 운용지, 네바리 등의 재료를 사용하여 벽면을 튼튼하게 만들고 표면을 매끈하게 다듬는 작업을 말합니다. 이러한 작업은 도배 작업을 시작하기 전의 필수적인 단계로, 벽면을 적절하게 준비하여 도배 작업의 품질을 높이고 마감재의 단단한 부착을 돕습니다.',\n",
       "  '답변2_2': '초배작업은 도배를 하기 전에 벽면에 시행하는 작업으로, 부직포, 운용지, 네바리 등의 재료를 사용하여 벽면을 튼튼하게 만들고 표면을 매끈하게 다듬는 작업을 말합니다. 이러한 작업은 도배 작업을 시작하기 전의 필수적인 단계로, 벽면을 적절하게 준비하여 도배 작업의 품질을 높이고 마감재의 단단한 부착을 돕습니다.',\n",
       "  '답변1_3': '초배작업은 도배 작업을 하기 전에 필요한 기초작업을 말합니다. 보통 부직포, 운용지, 네바리 등을 시공하여 벽면을 매끄럽게 만들고 도배 작업을 준비하는 단계를 포괄적으로 말합니다. 이러한 과정을 통해 도배 작업의 품질을 높이고 마감재의 밀착력을 향상시킬 수 있습니다.',\n",
       "  '답변2_3': '초배작업은 도배 작업을 하기 전에 필요한 기초작업을 말합니다. 보통 부직포, 운용지, 네바리 등을 시공하여 벽면을 매끄럽게 만들고 도배 작업을 준비하는 단계를 포괄적으로 말합니다. 이러한 과정을 통해 도배 작업의 품질을 높이고 마감재의 밀착력을 향상시킬 수 있습니다.',\n",
       "  '답변1_4': '초배작업은 도배 작업을 하기 전에 필요한 기초 작업을 말합니다. 도배를 위해 벽면을 부드럽고 안정적인 상태로 만들기 위해 부직포, 운용지, 네바리 등의 시공을 통틀어 초배작업이라고 합니다. 초배작업은 도배 작업의 퀄리티와 지속성을 높이는 데 중요한 역할을 합니다.',\n",
       "  '답변2_4': '초배작업은 도배 작업을 하기 전에 필요한 기초 작업을 말합니다. 도배를 위해 벽면을 부드럽고 안정적인 상태로 만들기 위해 부직포, 운용지, 네바리 등의 시공을 통틀어 초배작업이라고 합니다. 초배작업은 도배 작업의 퀄리티와 지속성을 높이는 데 중요한 역할을 합니다.',\n",
       "  '답변1_5': '초배 작업은 도배 작업을 하기 전에 벽면을 적절히 처리하는 작업을 말합니다. 이 단계에서는 부직포, 운용지, 네바리 등을 사용하여 벽면을 보강하고 평탄하게 만들어주는 작업을 포함합니다. 이로써 도배 작업이 보다 안정적으로 진행될 수 있게 됩니다.',\n",
       "  '답변2_5': '초배 작업은 도배 작업을 하기 전에 벽면을 적절히 처리하는 작업을 말합니다. 이 단계에서는 부직포, 운용지, 네바리 등을 사용하여 벽면을 보강하고 평탄하게 만들어주는 작업을 포함합니다. 이로써 도배 작업이 보다 안정적으로 진행될 수 있게 됩니다.'},\n",
       " {'유사도': 1.0000000000000002,\n",
       "  '질문1_1': 'PVC 샤시의 단점이 뭐야?',\n",
       "  '질문1_2': 'PVC 샤시의 단점은 무엇인가요?',\n",
       "  '질문2_1': 'PVC 샤시의 단점이 뭐야?',\n",
       "  '질문2_2': 'PVC 샤시의 단점은 무엇인가요?',\n",
       "  '답변1_1': 'PVC 샤시는 알루미늄 샤시보다 비싸고 프레임이 두껍다는 단점이 있습니다.',\n",
       "  '답변2_1': 'PVC 샤시는 알루미늄 샤시보다 비싸고 프레임이 두껍다는 단점이 있습니다.',\n",
       "  '답변1_2': 'PVC 샤시는 알루미늄 샤시에 비해 가격이 높고, 프레임이 두꺼워 보이는 것이 단점으로 지적됩니다. 또한, PVC 재료의 열 확장 계수가 높기 때문에 온도 변화에 따른 변형이 발생할 수 있다는 점도 고려해야 합니다. 그러나 PVC 샤시는 내구성이 뛰어나며, 유리 성능에도 긍정적인 영향을 미친다는 장점이 있습니다.',\n",
       "  '답변2_2': 'PVC 샤시는 알루미늄 샤시에 비해 가격이 높고, 프레임이 두꺼워 보이는 것이 단점으로 지적됩니다. 또한, PVC 재료의 열 확장 계수가 높기 때문에 온도 변화에 따른 변형이 발생할 수 있다는 점도 고려해야 합니다. 그러나 PVC 샤시는 내구성이 뛰어나며, 유리 성능에도 긍정적인 영향을 미친다는 장점이 있습니다.',\n",
       "  '답변1_3': 'PVC 샤시의 단점은 알루미늄 샤시에 비해 비교적 비싸며, 프레임이 두껍다는 점이 있습니다. 또한, PVC 소재의 환경 친화성과 내구성에 대한 우려가 제기되기도 합니다. 그러나 최근 기술 발전으로 내구성과 환경 친화성을 향상시키는 노력이 이루어지고 있습니다.',\n",
       "  '답변2_3': 'PVC 샤시의 단점은 알루미늄 샤시에 비해 비교적 비싸며, 프레임이 두껍다는 점이 있습니다. 또한, PVC 소재의 환경 친화성과 내구성에 대한 우려가 제기되기도 합니다. 그러나 최근 기술 발전으로 내구성과 환경 친화성을 향상시키는 노력이 이루어지고 있습니다.',\n",
       "  '답변1_4': 'PVC 샤시의 단점은 알루미늄 샤시에 비해 가격이 더 비싸며 프레임이 두껍다는 것입니다. 이로 인해 유리 면적이 줄어들고 시각적으로 미각이 손상될 수 있습니다. 추가로 PVC 샤시는 열 팽창 계수가 높아서 환경 온도 변화에 따라 형태가 일시적으로 변형될 수 있는 점도 고려해야 합니다.',\n",
       "  '답변2_4': 'PVC 샤시의 단점은 알루미늄 샤시에 비해 가격이 더 비싸며 프레임이 두껍다는 것입니다. 이로 인해 유리 면적이 줄어들고 시각적으로 미각이 손상될 수 있습니다. 추가로 PVC 샤시는 열 팽창 계수가 높아서 환경 온도 변화에 따라 형태가 일시적으로 변형될 수 있는 점도 고려해야 합니다.',\n",
       "  '답변1_5': 'PVC 샤시는 알루미늄 샤시에 비해 비용이 더 비싸고 프레임이 두꺼워 보일 수 있으며, 일부 환경에서는 열에 의해 변형될 수 있는 약점이 있습니다.',\n",
       "  '답변2_5': 'PVC 샤시는 알루미늄 샤시에 비해 비용이 더 비싸고 프레임이 두꺼워 보일 수 있으며, 일부 환경에서는 열에 의해 변형될 수 있는 약점이 있습니다.'},\n",
       " {'유사도': 0.9999999999999999,\n",
       "  '질문1_1': '어떻게 작은 공간을 더 넓어 보이게 꾸밀 수 있을까요?',\n",
       "  '질문1_2': '작은 공간을 넓어 보이게 꾸밀 때 어떤 요소들을 고려해야 할까요?',\n",
       "  '질문2_1': '어떻게 작은 공간을 더 넓어 보이게 꾸밀 수 있을까요?',\n",
       "  '질문2_2': '작은 공간을 넓어 보이게 꾸밀 때 어떤 요소들을 고려해야 할까요?',\n",
       "  '답변1_1': '작은 공간을 넓어 보이게 만들려면 밝은 컬러, 거울을 활용, 그리고 수평적 패턴을 선택하세요.',\n",
       "  '답변2_1': '작은 공간을 넓어 보이게 만들려면 밝은 컬러, 거울을 활용, 그리고 수평적 패턴을 선택하세요.',\n",
       "  '답변1_2': '작은 공간을 넓어 보이게 만드는 방법은 다양한데요.  가장 기본적인 방법은 밝은 컬러를 활용하는 것입니다. 밝은 톤의 컬러는 공간을 확장시키고, 밝은 분위기를 연출해줍니다. 또한, 거울을 활용하여 공간을 확장시킬 수 있습니다. 거울은 반사 효과로 공간을 확장시켜주는데, 큰 거울을 사용하면 더욱 효과적입니다. 또한, 수평적인 패턴을 선택하여 공간을 더 넓어 보이게 만들 수 있습니다. 수평적 패턴은 공간을 넓어 보이게 만들어줄 뿐만 아니라, 안정감을 줄 수 있습니다.',\n",
       "  '답변2_2': '작은 공간을 넓어 보이게 만드는 방법은 다양한데요.  가장 기본적인 방법은 밝은 컬러를 활용하는 것입니다. 밝은 톤의 컬러는 공간을 확장시키고, 밝은 분위기를 연출해줍니다. 또한, 거울을 활용하여 공간을 확장시킬 수 있습니다. 거울은 반사 효과로 공간을 확장시켜주는데, 큰 거울을 사용하면 더욱 효과적입니다. 또한, 수평적인 패턴을 선택하여 공간을 더 넓어 보이게 만들 수 있습니다. 수평적 패턴은 공간을 넓어 보이게 만들어줄 뿐만 아니라, 안정감을 줄 수 있습니다.',\n",
       "  '답변1_3': '작은 공간을 더 넓어 보이게 만들기 위해서는 몇 가지 꾸미는 요령을 활용할 수 있습니다. 우선, 공간을 밝은 컬러로 꾸미는 것이 중요합니다. 또한, 거울을 활용하여 공간을 확장하는 효과를 줄 수 있습니다. 수평적인 패턴을 선택하여 벽이나 바닥을 꾸밀 경우에도 공간이 더 넓어 보이는 효과를 얻을 수 있습니다.',\n",
       "  '답변2_3': '작은 공간을 더 넓어 보이게 만들기 위해서는 몇 가지 꾸미는 요령을 활용할 수 있습니다. 우선, 공간을 밝은 컬러로 꾸미는 것이 중요합니다. 또한, 거울을 활용하여 공간을 확장하는 효과를 줄 수 있습니다. 수평적인 패턴을 선택하여 벽이나 바닥을 꾸밀 경우에도 공간이 더 넓어 보이는 효과를 얻을 수 있습니다.',\n",
       "  '답변1_4': '작은 공간을 더 넓어 보이게 하는 데에는 몇 가지 유용한 팁이 있습니다. 첫째로, 밝은 컬러를 사용하여 공간을 환한 느낌으로 만들 수 있습니다. 둘째로, 거울을 적절히 활용하여 공간을 확장시킬 수 있으며, 수평적 패턴을 선택하여 공간을 확장시키는 식으로 효과를 얻을 수 있습니다. 이러한 방법들을 조합하여 작은 공간을 더 넓어 보이게 꾸밀 수 있습니다.',\n",
       "  '답변2_4': '작은 공간을 더 넓어 보이게 하는 데에는 몇 가지 유용한 팁이 있습니다. 첫째로, 밝은 컬러를 사용하여 공간을 환한 느낌으로 만들 수 있습니다. 둘째로, 거울을 적절히 활용하여 공간을 확장시킬 수 있으며, 수평적 패턴을 선택하여 공간을 확장시키는 식으로 효과를 얻을 수 있습니다. 이러한 방법들을 조합하여 작은 공간을 더 넓어 보이게 꾸밀 수 있습니다.',\n",
       "  '답변1_5': '작은 공간을 넓어 보이게 만들기 위해서는 몇 가지 디자인 요소를 고려해야 합니다. 밝은 컬러를 선택하여 공간을 확장시키고, 거울은 시각적인 확장 효과를 주며, 수평적 패턴은 공간을 더 넓어 보이게 만들어 줍니다. 또한 가구와 가구 배치, 조명 등도 고려해야 합니다. 가구는 작고 다용도성이 뛰어난 것을 선택하고, 조명은 밝고 균일하게 공간에 비추는 것이 도움이 됩니다. 이러한 디자인 요소를 조합하여 작은 공간을 더 넓어 보이게 꾸밀 수 있습니다.',\n",
       "  '답변2_5': '작은 공간을 넓어 보이게 만들기 위해서는 몇 가지 디자인 요소를 고려해야 합니다. 밝은 컬러를 선택하여 공간을 확장시키고, 거울은 시각적인 확장 효과를 주며, 수평적 패턴은 공간을 더 넓어 보이게 만들어 줍니다. 또한 가구와 가구 배치, 조명 등도 고려해야 합니다. 가구는 작고 다용도성이 뛰어난 것을 선택하고, 조명은 밝고 균일하게 공간에 비추는 것이 도움이 됩니다. 이러한 디자인 요소를 조합하여 작은 공간을 더 넓어 보이게 꾸밀 수 있습니다.'},\n",
       " {'유사도': 1.0000000000000002,\n",
       "  '질문1_1': '온돌마루는 기대수명이 얼마야?',\n",
       "  '질문1_2': '온돌마루의 기대수명은 얼마나 되나요?',\n",
       "  '질문2_1': '온돌마루는 기대수명이 얼마야?',\n",
       "  '질문2_2': '온돌마루의 기대수명은 얼마나 되나요?',\n",
       "  '답변1_1': '온돌마루의 기대수명은 25년입니다.',\n",
       "  '답변2_1': '온돌마루의 기대수명은 25년입니다.',\n",
       "  '답변1_2': '온돌마루의 기대수명은 일반적으로 25년입니다. 그러나 이는 제품의 품질, 사용 및 유지관리 여부에 따라 달라질 수 있습니다. 지속적인 청소와 유지보수로 수명을 연장시킬 수 있으니, 제품 사용 설명서를 참고하고 규칙적인 관리를 유지하는 것이 좋습니다.',\n",
       "  '답변2_2': '온돌마루의 기대수명은 일반적으로 25년입니다. 그러나 이는 제품의 품질, 사용 및 유지관리 여부에 따라 달라질 수 있습니다. 지속적인 청소와 유지보수로 수명을 연장시킬 수 있으니, 제품 사용 설명서를 참고하고 규칙적인 관리를 유지하는 것이 좋습니다.',\n",
       "  '답변1_3': '온돌마루의 기대수명은 보통 25년 정도입니다. 따라서 온돌마루를 사용하시는 동안에는 정기적인 관리와 수리를 통해 내구성을 유지하는 것이 좋습니다.',\n",
       "  '답변2_3': '온돌마루의 기대수명은 보통 25년 정도입니다. 따라서 온돌마루를 사용하시는 동안에는 정기적인 관리와 수리를 통해 내구성을 유지하는 것이 좋습니다.',\n",
       "  '답변1_4': '온돌마루의 기대수명은 일반적으로 25년입니다. 이 기간은 제대로 관리하고 적절하게 사용하는 경우를 기준으로 합니다. 온돌마루의 내구성과 수명을 늘리기 위해서는 규칙적인 청소, 유지보수, 그리고 적정한 온도와 습도 관리가 필요합니다.',\n",
       "  '답변2_4': '온돌마루의 기대수명은 일반적으로 25년입니다. 이 기간은 제대로 관리하고 적절하게 사용하는 경우를 기준으로 합니다. 온돌마루의 내구성과 수명을 늘리기 위해서는 규칙적인 청소, 유지보수, 그리고 적정한 온도와 습도 관리가 필요합니다.',\n",
       "  '답변1_5': '온돌마루의 기대수명은 대개 25년입니다. 이는 적절한 관리와 보수가 이루어진 상태에서의 평균적인 기대치이며, 정기적인 청소와 보수가 수행될 경우 더 오랜 시간 사용할 수 있을 수도 있습니다.',\n",
       "  '답변2_5': '온돌마루의 기대수명은 대개 25년입니다. 이는 적절한 관리와 보수가 이루어진 상태에서의 평균적인 기대치이며, 정기적인 청소와 보수가 수행될 경우 더 오랜 시간 사용할 수 있을 수도 있습니다.'},\n",
       " {'유사도': 1.0,\n",
       "  '질문1_1': '도배풀의 종류 좀 알려줘',\n",
       "  '질문1_2': '도배풀에는 어떤 종류가 있나요?',\n",
       "  '질문2_1': '도배풀의 종류 좀 알려줘',\n",
       "  '질문2_2': '도배풀에는 어떤 종류가 있나요?',\n",
       "  '답변1_1': '도배풀의 종류는 쌀풀, 밀풀, 가루풀 등이 있습니다.',\n",
       "  '답변2_1': '도배풀의 종류는 쌀풀, 밀풀, 가루풀 등이 있습니다.',\n",
       "  '답변1_2': '도배풀의 종류는 주로 쌀풀, 밀풀, 가루풀 등이 사용됩니다. 각 종류마다 특징이 조금씩 다르기 때문에 현장 상황에 맞는 적절한 풀을 선택하는 것이 중요합니다.',\n",
       "  '답변2_2': '도배풀의 종류는 주로 쌀풀, 밀풀, 가루풀 등이 사용됩니다. 각 종류마다 특징이 조금씩 다르기 때문에 현장 상황에 맞는 적절한 풀을 선택하는 것이 중요합니다.',\n",
       "  '답변1_3': '도배풀에는 주로 쌀풀, 밀풀, 가루풀 등이 사용됩니다. 이들은 각각의 재료와 사용 용도에 따라 다양한 종류가 있습니다.',\n",
       "  '답변2_3': '도배풀에는 주로 쌀풀, 밀풀, 가루풀 등이 사용됩니다. 이들은 각각의 재료와 사용 용도에 따라 다양한 종류가 있습니다.',\n",
       "  '답변1_4': '도배풀에는 주로 쌀풀, 밀풀, 가루풀 등의 종류가 있습니다. 그중에서도 쌀풀은 물을 넣어 풀어 사용하는데 비해, 밀풀과 가루풀은 건조한 상태에서 사용할 수 있습니다. 이러한 도배풀들은 각자의 장단점과 사용 용도에 따라 선택되므로, 프로젝트의 요구사항과 환경에 적합한 도배풀을 선택하는 것이 중요합니다.',\n",
       "  '답변2_4': '도배풀에는 주로 쌀풀, 밀풀, 가루풀 등의 종류가 있습니다. 그중에서도 쌀풀은 물을 넣어 풀어 사용하는데 비해, 밀풀과 가루풀은 건조한 상태에서 사용할 수 있습니다. 이러한 도배풀들은 각자의 장단점과 사용 용도에 따라 선택되므로, 프로젝트의 요구사항과 환경에 적합한 도배풀을 선택하는 것이 중요합니다.',\n",
       "  '답변1_5': '도배풀의 종류는 주로 쌀풀, 밀풀, 가루풀이 사용됩니다. 이들 도배풀은 재료와 사용 목적에 따라 선택되며, 공간의 습도와 온도에 따라 적합한 도배풀을 고르는 것이 중요합니다.',\n",
       "  '답변2_5': '도배풀의 종류는 주로 쌀풀, 밀풀, 가루풀이 사용됩니다. 이들 도배풀은 재료와 사용 목적에 따라 선택되며, 공간의 습도와 온도에 따라 적합한 도배풀을 고르는 것이 중요합니다.'}]"
      ]
     },
     "execution_count": 34,
     "metadata": {},
     "output_type": "execute_result"
    }
   ],
   "source": [
    "detailed = extract_details(df)\n",
    "\n",
    "detailed"
   ]
  },
  {
   "cell_type": "code",
   "execution_count": 30,
   "metadata": {},
   "outputs": [
    {
     "data": {
      "text/plain": [
       "[('있습니다', 3341),\n",
       " ('수', 3309),\n",
       " ('또한', 1351),\n",
       " ('것이', 1312),\n",
       " ('합니다', 1130),\n",
       " ('이러한', 804),\n",
       " ('있는', 724),\n",
       " ('및', 628),\n",
       " ('좋습니다', 498),\n",
       " ('다양한', 497),\n",
       " ('중요합니다', 494),\n",
       " ('발생할', 479),\n",
       " ('공간을', 458),\n",
       " ('경우', 457),\n",
       " ('주로', 454),\n",
       " ('때', 415),\n",
       " ('통해', 411),\n",
       " ('인해', 406),\n",
       " ('따라', 398),\n",
       " ('위해', 364)]"
      ]
     },
     "execution_count": 30,
     "metadata": {},
     "output_type": "execute_result"
    }
   ],
   "source": [
    "text_columns = ['질문_1', '질문_2', '답변_1', '답변_2', '답변_3', '답변_4', '답변_5']\n",
    "\n",
    "def simple_tokenize(text):\n",
    "    tokens = re.findall(r'[가-힣]+', text)\n",
    "    return tokens\n",
    "\n",
    "simple_tokens = []\n",
    "for column in text_columns:\n",
    "    df[column].apply(lambda x: simple_tokens.extend(simple_tokenize(x)))\n",
    "\n",
    "simple_token_counts = Counter(simple_tokens)\n",
    "\n",
    "most_common_simple_tokens = simple_token_counts.most_common(20)\n",
    "most_common_simple_tokens"
   ]
  }
 ],
 "metadata": {
  "kernelspec": {
   "display_name": "myenv",
   "language": "python",
   "name": "myenv"
  },
  "language_info": {
   "codemirror_mode": {
    "name": "ipython",
    "version": 3
   },
   "file_extension": ".py",
   "mimetype": "text/x-python",
   "name": "python",
   "nbconvert_exporter": "python",
   "pygments_lexer": "ipython3",
   "version": "3.8.13"
  }
 },
 "nbformat": 4,
 "nbformat_minor": 2
}
